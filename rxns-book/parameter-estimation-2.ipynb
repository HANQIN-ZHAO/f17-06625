{
 "cells": [
  {
   "cell_type": "markdown",
   "metadata": {},
   "source": [
    "\n",
    "# Parameter estimation from differential equation based models\n",
    "\n"
   ]
  },
  {
   "cell_type": "markdown",
   "metadata": {},
   "source": [
    "-   Finally,  we consider fitting the mole balance directly\n",
    "\n",
    "-   Here we numerically integrate the mole balance with parameters that we want to estimate\n",
    "-   We use nlinfit to vary the parameters and \"fit\" the data\n",
    "\n",
    "-   We need the ODE function which is integrated\n",
    "\n",
    "-   We need another model function which integrates the ODE with a set of parameters and returns the estimated data points at the same time values\n",
    "\n",
    "-   Then we let nlinfit do its work.\n",
    "\n",
    "[pycse.nlinfit](https://www.google.com/#safe=off&q=pycse.nlinfit)\n",
    "\n"
   ]
  },
  {
   "cell_type": "code",
   "execution_count": 1,
   "metadata": {},
   "outputs": [
    {
     "name": "stdout",
     "output_type": "stream",
     "text": [
      "alpha = [ 2.002  2.071] at the 95% confidence level\n",
      "k = [ 0.126  0.159] at the 95% confidence level\n"
     ]
    }
   ],
   "source": [
    "import numpy as np\n",
    "np.set_printoptions(precision=3)\n",
    "\n",
    "import matplotlib.pyplot as plt\n",
    "from scipy.integrate import odeint\n",
    "from pycse import  nlinfit\n",
    "\n",
    "t = np.array([0, 50, 100, 150, 200, 250, 300])\n",
    "Ca = np.array([0.05, 0.038, 0.0306, 0.0256, 0.0222, 0.0195, 0.0174])\n",
    "\n",
    "Ca0 = 0.05\n",
    "\n",
    "def dCadt(Ca, t, k, alpha):\n",
    "    return -k * Ca**alpha\n",
    "\n",
    "def model(t, k, alpha):\n",
    "    Ca = odeint(dCadt, Ca0, t, args=(k, alpha))\n",
    "    return Ca[:,0]  # must return a 1D array here\n",
    "\n",
    "guess = [0.1, 2.0] # from the linear regression\n",
    "\n",
    "p, pint, se = nlinfit(model, t, Ca, guess, 0.05)\n",
    "\n",
    "k_range, alpha_range = np.array(pint)\n",
    "\n",
    "print('alpha = {} at the 95% confidence level'.format(alpha_range))\n",
    "print('k = {0} at the 95% confidence level'.format(k_range))"
   ]
  },
  {
   "cell_type": "markdown",
   "metadata": {},
   "source": [
    "-   The confidence intervals here are identical to the nonlinear fit to the analytical solution!\n",
    "\n",
    "-   We have essentially solved the same fitting problem\n",
    "\n",
    "-   Notice again that initial guesses were required\n",
    "\n"
   ]
  },
  {
   "cell_type": "markdown",
   "metadata": {},
   "source": [
    "\n",
    "# Effects of uncertainty on reactor design\n",
    "\n"
   ]
  },
  {
   "cell_type": "markdown",
   "metadata": {},
   "source": [
    "-   The effects of uncertainty in parameters on design are a result of propagation of errors.\n",
    "\n",
    "-   If there is uncertainty in a number, and that number is used to calculate another number, then the result will have uncertainty also\n",
    "\n",
    "-   We can quantitatively determine the uncertainty and how it is propagated\n",
    "\n",
    "-   see [propagation of uncertainty](http://en.wikipedia.org/wiki/Propagation_of_uncertainty).\n",
    "\n",
    "If a function depends on parameters (a, b, c &#x2026;) that have corresponding uncertainties (&sigma;\\_a, &sigma;\\_b, &sigma;\\_c,&#x2026;) then the uncertainty in $f$ is approximately:\n",
    "\n",
    "\\begin{align}\n",
    "s_f = \\sqrt{\\left( \\frac{\\partial f}{\\partial a}\\right)^2 s_a^2 + \\left( \\frac{\\partial f}{\\partial b}\\right)^2 s_b^2  + \\left( \\frac{\\partial f}{\\partial c}\\right)^2 s_c^2 + \\cdots}\n",
    "\\end{align}\n",
    "\n",
    "-   Consider we have a parameter k=0.1 1/s with standard error of &sigma;\\_k = 0.02, i.e. $k = 0.1 \\pm 0.02$ 1/s.\n",
    "\n",
    "-   If the rate law is $r = k C_A$, and there is no uncertainty in $C_A$, what is the uncertainty in the rate for $C_A=2$?\n",
    "\n",
    "\\begin{align}\n",
    "\\sigma_r = \\sqrt{\\left(\\frac{\\partial r}{\\partial k}\\right)^2\\sigma_k^2}\n",
    "\\end{align}\n",
    "\n",
    "-   Evaluating this leads to &sigma;\\_r = C\\_A &sigma;\\_k = 0.04\n",
    "-   In other words, the rate will be 0.2 &plusmn; 0.04 mol/L/s\n",
    "\n",
    "-   It can be tedious to evaluate all of the partial derivatives\n",
    "-   The `uncertainties` package can help tremendously for this\n",
    "\n",
    "[uncertainties](https://www.google.com/#safe=off&q=uncertainties)\n",
    "\n"
   ]
  },
  {
   "cell_type": "code",
   "execution_count": 2,
   "metadata": {},
   "outputs": [
    {
     "name": "stdout",
     "output_type": "stream",
     "text": [
      "The rate is 0.20+/-0.04 mol/L/s\n"
     ]
    }
   ],
   "source": [
    "import uncertainties as u\n",
    "\n",
    "k = u.ufloat(0.1, 0.02)\n",
    "CA = 2.0\n",
    "\n",
    "print('The rate is {0} mol/L/s'.format(k*CA))"
   ]
  },
  {
   "cell_type": "markdown",
   "metadata": {},
   "source": [
    "-   `uncertainties` automatically propagates most errors through all standard math operations, and many (but not all) functions.\n",
    "\n",
    "-   An alternative approach to error propagation is Monte Carlo simulation.\n",
    "\n",
    "-   In this approach we sample the variables with uncertainty and perform the calculations many times.\n",
    "\n",
    "-   Then we use statistical analysis to determine the uncertainty of the result.\n",
    "\n",
    "-   We illustrate the approach on estimating the uncertainty\n",
    "\n"
   ]
  },
  {
   "cell_type": "code",
   "execution_count": 4,
   "metadata": {},
   "outputs": [
    {
     "name": "stdout",
     "output_type": "stream",
     "text": [
      "The average rate is 0.2000004512031849 mol/L/s\n",
      "The standard error is 0.03999932155957138 mol/L/s\n",
      "100000000\n"
     ]
    },
    {
     "data": {
      "image/png": "[encoded data removed]",
      "text/plain": [
       "<matplotlib.figure.Figure at 0x7f0c02f85390>"
      ]
     },
     "metadata": {},
     "output_type": "display_data"
    }
   ],
   "source": [
    "import numpy as np\n",
    "import matplotlib.pyplot as plt\n",
    "\n",
    "N = 100000000\n",
    "muk = 0.1\n",
    "sigmak = 0.02\n",
    "k = np.random.normal(muk, sigmak, N)\n",
    "\n",
    "SE = sigmak / np.sqrt(N)\n",
    "\n",
    "CA = 2.0\n",
    "\n",
    "r = k * CA\n",
    "print('The average rate is {0} mol/L/s'.format(np.mean(r)))\n",
    "print('The standard error is {0} mol/L/s'.format(np.std(r)))\n",
    "print(N)\n",
    "\n",
    "plt.hist(r, 500)\n",
    "plt.xlabel('r')\n",
    "plt.ylabel('frequency')\n",
    "plt.savefig('images/mc-error.png')"
   ]
  },
  {
   "cell_type": "markdown",
   "metadata": {},
   "source": [
    "![img](./images/mc-error.png)\n",
    "\n",
    "-   You can see that the distribution appears approximately normally distributed\n",
    "\n",
    "-   The average is approximately the same as we observed in the previous two approaches\n",
    "\n",
    "-   The standard error is also approximately the same\n",
    "\n",
    "-   This approach makes no assumptions about the error propagation other than errors in the parameters are not correlated\n",
    "    -   we do assume the uncertainty in the parameters is normally distributed\n",
    "    -   Other distributions could also be used\n",
    "\n",
    "-   Note it is possible with the normal distribution for $k$ to be negative\n",
    "    -   This is not physically meaningful\n",
    "    -   The probability of that happening is very low\n",
    "    -   $k$ is only approximately normally distributed about the mean, not in the tails\n",
    "\n"
   ]
  },
  {
   "cell_type": "markdown",
   "metadata": {},
   "source": [
    "\n",
    "## An application in reactor design\n",
    "\n"
   ]
  },
  {
   "cell_type": "markdown",
   "metadata": {},
   "source": [
    "Let us illustrate the effects of uncertainty on the exit concentration of a CSTR.\n",
    "\n",
    "-   $r_A = k C_A^2$ with $k$ = 3.0 &plusmn; 0.2 L/mol/hr\n",
    "-   $A$ is fed to the reactor at a rate of 5 &plusmn; 0.05 mol/hr\n",
    "-   The volumetric flow is 10 &plusmn; 0.1 L/hr\n",
    "-   The reactor volume is 66000 L\n",
    "\n",
    "What is the exit concentration?\n",
    "\n",
    "-   We have to solve $0 = F_{A,in} - F_{A,out} + r_A V$\n",
    "\n",
    "-   We have several variables to create distributions for. We will create all the samples, and then loop through them and store the result in a vector.\n",
    "\n"
   ]
  },
  {
   "cell_type": "code",
   "execution_count": 5,
   "metadata": {},
   "outputs": [
    {
     "name": "stdout",
     "output_type": "stream",
     "text": [
      "Ca(exit) = 0.0050068117152878575+/-0.00016854659551114484\n",
      "1.6831728962\n"
     ]
    }
   ],
   "source": [
    "import numpy as np\n",
    "from scipy.optimize import fsolve\n",
    "\n",
    "N = 10000    # number of MC samples\n",
    "V =  66000   # L\n",
    "\n",
    "Fa0 = np.random.normal(5, 0.05, (1, N))\n",
    "v0 = np.random.normal(10.0, 0.1, (1, N))\n",
    "k = np.random.normal(3.0, 0.2, (1, N))\n",
    "\n",
    "# create the array to store the results in\n",
    "# It is usually more efficient to create arrays then fill them in.\n",
    "SOL = np.empty(k.shape)\n",
    "\n",
    "for i in range(N):\n",
    "    def func(Ca):\n",
    "        ra = -k[0,i] * Ca**2\n",
    "        return Fa0[0,i] - v0[0,i] * Ca + V * ra\n",
    "    guess = 0.1 * Fa0[0,i] / v0[0,i]  # guessing 90% conversion\n",
    "    SOL[0,i] = fsolve(func, guess)[0]\n",
    "\n",
    "print('Ca(exit) = {0}+/-{1}'.format(np.mean(SOL), np.std(SOL)))\n",
    "\n",
    "# This is an approximate % uncertainty\n",
    "print(np.std(SOL) / np.mean(SOL) * 100 / 2)"
   ]
  },
  {
   "cell_type": "markdown",
   "metadata": {},
   "source": [
    "-   This analysis shows there is about 2% uncertainty in the exit concentration\n",
    "    -   that may be acceptable\n",
    "\n",
    "-   It is not fast to do Monte Carlo\n",
    "    -   you need many calculations to get good statistics\n",
    "    -   In some cases you may find not all calculations converge\n",
    "\n",
    "-   We can also use the `uncertainties` package\n",
    "    -   We have to do some work to make it work\n",
    "    -   We have to \"wrap\" the fsolve function to make it work with uncertainties\n",
    "    -   but after that, evaluation is fast\n",
    "\n"
   ]
  },
  {
   "cell_type": "code",
   "execution_count": 6,
   "metadata": {},
   "outputs": [
    {
     "name": "stdout",
     "output_type": "stream",
     "text": [
      "The exit concentration is 0.00500+/-0.00017\n"
     ]
    }
   ],
   "source": [
    "import uncertainties as u\n",
    "from scipy.optimize import fsolve\n",
    "\n",
    "V = 66000  # reactor volume L^3\n",
    "Fa0 = u.ufloat(5.0, 0.05)     # mol / h\n",
    "v0 = u.ufloat(10., 0.1)       # L / h\n",
    "k = u.ufloat(3.0, 0.2)      # rate constant L/mol/h\n",
    "\n",
    "# Step 1\n",
    "def func(Ca, v0, k, Fa0, V):\n",
    "    \"Mole balance for a CSTR. Solve this equation for func(Ca)=0\"\n",
    "    Fa = v0 * Ca     # exit molar flow of A\n",
    "    ra = -k * Ca**2  # rate of reaction of A L/mol/h\n",
    "    return Fa0 - Fa + V * ra\n",
    "\n",
    "# Step 2\n",
    "def Ca_solve(v0, k, Fa0, V):\n",
    "    'wrap fsolve to pass parameters as float or units'\n",
    "    # this line is a little fragile. You must put [0] at the end or\n",
    "    # you get the NotImplemented result\n",
    "    guess = 0.1 * Fa0 / v0\n",
    "    sol = fsolve(func, guess, args=(v0, k, Fa0, V))[0]\n",
    "    return sol\n",
    "\n",
    "# Step 3\n",
    "Ca_exit = u.wrap(Ca_solve)(v0, k, Fa0, V)\n",
    "print('The exit concentration is {0}'.format(Ca_exit))"
   ]
  },
  {
   "cell_type": "markdown",
   "metadata": {},
   "source": [
    "-   You can see this result is very similar to our Monte Carlo analysis\n",
    "-   Some disadvantages for this approach are\n",
    "    -   The need to wrap functions\n",
    "    -   You cannot perform statistical analysis on the results\n",
    "        -   This may be important in very nonlinear equations where standard error propagation formulas are not good approximations\n",
    "-   This simulation assumes the uncertainties in parameters are uncorrelated, i.e. they are independent\n",
    "\n"
   ]
  },
  {
   "cell_type": "markdown",
   "metadata": {},
   "source": [
    "\n",
    "# Differential flow reactors for determining rate laws\n",
    "\n"
   ]
  },
  {
   "cell_type": "markdown",
   "metadata": {},
   "source": [
    "-   For many reactions it is not feasible to perform batch reactions\n",
    "-   Especially for gas phase reactions on catalysts, a flow reactor is preferrable\n",
    "-   If we can use a packed bed reactor with an approximately differential (i.e. a small thickness), then it is possible to directly measure the rate of reaction\n",
    "\n",
    "\\begin{align}\n",
    "\\frac{dF_A}{dW} = r_A\n",
    "\\end{align}\n",
    "\n",
    "-   We approximate the rate as:\n",
    "\n",
    "\\begin{align}\n",
    "r_A \\approx \\frac{F_{A,exit} - F_{A0}}{W_b}\n",
    "\\end{align}\n",
    "\n",
    "where $W_b$ is the weight of the bed, $F_{A,exit} = \\nu C_A$ is the molar flow of $A$ out of the reactor, and $F_{A0}$ is the molar flow entering the reactor\n",
    "\n",
    "-   It is important that $W_b$ is small, to keep the total conversion as small as possible while still being able to measure changes in the molar flows\n",
    "    -   Low total conversion is important so you can assume $C_A$ is essentially constant in the reactor bed\n",
    "\n",
    "-   Instead of measuring a small change in the reactants, you may also measure the increase in molar flow rate of products, which increase from zero (assuming they are not in the feed)\n",
    "\n",
    "-   In this reactor setup, you measure $r_A$ as a function of inlet conditions, and then fit the data to a proposed rate law\n",
    "\n",
    "-   Here is an example of rate data from a differential reactor as a function of inlet concentration of $A$\n",
    "    -   We assume that $r_1 = k C_A^\\alpha$ and fit the model to the data\n",
    "\n"
   ]
  },
  {
   "cell_type": "code",
   "execution_count": 7,
   "metadata": {},
   "outputs": [
    {
     "name": "stdout",
     "output_type": "stream",
     "text": [
      "k is between [ 0.9    1.234]\n",
      "alpha is between [ 0.304  0.588]\n"
     ]
    }
   ],
   "source": [
    "import numpy as np\n",
    "from pycse import nlinfit\n",
    "\n",
    "C_A = np.array([1.0, 4.0, 2.0, 0.1, 0.5])    # mol/m^3\n",
    "r_1 = np.array([1.2, 2.0, 1.36, 0.36, 0.74]) # mol/m^3/min\n",
    "\n",
    "def rate(Ca, k, alpha):\n",
    "    return k * Ca**alpha\n",
    "\n",
    "p, pint, se = nlinfit(rate, C_A, r_1, [10, 0.5])\n",
    "print('k is between {0}'.format(pint[0]))\n",
    "print('alpha is between {0}'.format(pint[1]))"
   ]
  },
  {
   "cell_type": "code",
   "execution_count": null,
   "metadata": {
    "collapsed": true
   },
   "outputs": [],
   "source": []
  }
 ],
 "metadata": {
  "kernelspec": {
   "display_name": "Python 3",
   "language": "python",
   "name": "python3"
  },
  "language_info": {
   "codemirror_mode": {
    "name": "ipython",
    "version": 3
   },
   "file_extension": ".py",
   "mimetype": "text/x-python",
   "name": "python",
   "nbconvert_exporter": "python",
   "pygments_lexer": "ipython3",
   "version": "3.6.2"
  }
 },
 "nbformat": 4,
 "nbformat_minor": 1
}
