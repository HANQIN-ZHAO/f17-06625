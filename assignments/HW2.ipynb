{
 "cells": [
  {
   "cell_type": "markdown",
   "metadata": {},
   "source": [
    "$$\\require{mhchem}$$       "
   ]
  },
  {
   "cell_type": "markdown",
   "metadata": {},
   "source": [
    "# Problem 1:  Reaction extent"
   ]
  },
  {
   "cell_type": "markdown",
   "metadata": {},
   "source": [
    "## Problem 1A (1pt)\n",
    "Ammonia has been proposed as a chemical to store hydrogen for a hydrogen fuel cell due its favorable volumetric hydrogen density. Write down the stoichiometric vector for the thermal decomposition of ammonia to nitrogen and hydrogen."
   ]
  },
  {
   "cell_type": "markdown",
   "metadata": {},
   "source": [
    "## Problem 1B (5pt)\n",
    "Suppose that we know the initial gas concentration of ammonia in a tank is 100 mol/L, and the fractional reaction extent proceeds as $X=(1-e^{-3t^3})$ where $t$ is the time in seconds.  Plot the concentration of ammonia, nitrogen, and hydrogen as a function of time over the first 2 seconds.  Label the plot with a legend to indicate the species.  "
   ]
  },
  {
   "cell_type": "markdown",
   "metadata": {},
   "source": [
    "## Problem 1C (2 pt)\n",
    "The operator is worried that if the reaction continues to full extent the increase in the number of moles will drive the pressure too high before pressure relief valves can activate.  Calculate the time it will take to achieve a 50% higher pressure in the reactor (assuming ideal gas) due to the increase in the number of moles, using fsolve."
   ]
  },
  {
   "cell_type": "markdown",
   "metadata": {},
   "source": [
    "# Problem 2:  Stoichiometry of reaction systems"
   ]
  },
  {
   "cell_type": "markdown",
   "metadata": {},
   "source": [
    "## Problem 2A (2 pt)\n",
    "Suppose we have a reactor with a number of possible reactions:\n",
    "1. $\\ce{H2O + CO <=> H_2 + CO2 }$\n",
    "\n",
    "1.  $\\ce{CO_2 <=> C + O_2 }$\n",
    "\n",
    "1. $\\ce{O_2 + 2H_2 <=> 2H_2O}$\n",
    "\n",
    "1. $\\ce{CO + 1/2O2 <=> CO2}$\n",
    "\n",
    "1. $\\ce{C + 2H_2 <=> CH_4}$\n",
    "\n",
    "1. $\\ce{CH4 + 2O2<=> CO2 + 2H2O}$\n",
    "\n",
    "For each reaction, write the stoichiometric coefficients in vector form in the form [$\\ce{H_2O, CO, H2, CO2, C, O2, CH4}$]"
   ]
  },
  {
   "cell_type": "markdown",
   "metadata": {},
   "source": [
    "## Problem 2B (1 pt)\n",
    "Stack these vectors vertically to form a matrix of reaction coefficients $\\mathbf{M}$ for this system (each column corresponds to a reaction)"
   ]
  },
  {
   "cell_type": "markdown",
   "metadata": {},
   "source": [
    "## Problem 2C (4 pt)\n",
    "This matrix has a lot of information embedded in it.  Suppose we want to turn methane into syngas (H2 and CO) $\\ce{CH4 + O2 -> H_2 + CO + H2O}$  and we can control the extent of each reaction; is there a way to accomplish this reaction with the known reactions?  We can represent this as searching for a linear combination of the known reactions that will form this new reaction:\n",
    "\\begin{align}\n",
    "\\text{Desired reaction}=\\begin{pmatrix}1\\\\ 1\\\\ 1\\\\0\\\\0\\\\-1\\\\-1\\end{pmatrix} = \\mathbf{M}X\n",
    "\\end{align}\n",
    "\n",
    "Where X is a vector of reaction extents. Find the reaction extents that lead to a solution to this equation using numpy.linalg.lstsq (similar to what you get with M\\b in Matlab)."
   ]
  },
  {
   "cell_type": "markdown",
   "metadata": {},
   "source": [
    "## Problem 2D (1 pt)\n",
    "Check that the numerical solution yields the desired final reaction using np.matmul"
   ]
  },
  {
   "cell_type": "markdown",
   "metadata": {},
   "source": [
    "## Problem 2E (2 pt)\n",
    "The same final reaction could be arrived at with R1 + R6 - 2R4.  How many different ways do you think you could arrive at the same reaction? Why are there multiple combinations?"
   ]
  },
  {
   "cell_type": "markdown",
   "metadata": {},
   "source": [
    "## Problem 2F (2 pt)\n",
    "Finally, say only a few of the reactions were kinetically feasible:\n",
    "1. $\\ce{H2O + CO <=> H_2 + CO2 }$\n",
    "\n",
    "1. $\\ce{O_2 + 2H_2 <=> 2H_2O}$\n",
    "\n",
    "1. $\\ce{CH4 + 2O2<=> CO2 + 2H2O}$\n",
    "\n",
    "Repeat the analysis and identify the reaction path that would be necessary"
   ]
  }
 ],
 "metadata": {
  "kernelspec": {
   "display_name": "Python 3",
   "language": "python",
   "name": "python3"
  },
  "language_info": {
   "codemirror_mode": {
    "name": "ipython",
    "version": 3
   },
   "file_extension": ".py",
   "mimetype": "text/x-python",
   "name": "python",
   "nbconvert_exporter": "python",
   "pygments_lexer": "ipython3",
   "version": "3.6.2"
  },
  "toc": {
   "colors": {
    "hover_highlight": "#DAA520",
    "navigate_num": "#000000",
    "navigate_text": "#333333",
    "running_highlight": "#FF0000",
    "selected_highlight": "#FFD700",
    "sidebar_border": "#EEEEEE",
    "wrapper_background": "#FFFFFF"
   },
   "moveMenuLeft": true,
   "nav_menu": {
    "height": "173px",
    "width": "252px"
   },
   "navigate_menu": true,
   "number_sections": true,
   "sideBar": true,
   "threshold": 4,
   "toc_cell": false,
   "toc_section_display": "block",
   "toc_window_display": false,
   "widenNotebook": false
  }
 },
 "nbformat": 4,
 "nbformat_minor": 2
}
